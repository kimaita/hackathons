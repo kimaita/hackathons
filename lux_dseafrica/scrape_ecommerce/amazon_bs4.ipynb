{
 "cells": [
  {
   "cell_type": "code",
   "execution_count": 1,
   "metadata": {},
   "outputs": [],
   "source": [
    "import asyncio\n",
    "import functools\n",
    "import os\n",
    "import time\n",
    "from urllib.parse import urlencode\n",
    "\n",
    "import aiohttp\n",
    "import pandas as pd\n",
    "import requests\n",
    "from bs4 import BeautifulSoup, SoupStrainer\n"
   ]
  },
  {
   "cell_type": "code",
   "execution_count": 2,
   "metadata": {},
   "outputs": [],
   "source": [
    "product_divs = SoupStrainer(\"div\", attrs={\"data-asin\": True})\n",
    "\n",
    "def create_urls(search):\n",
    "    def create_page_url(search_term, page):\n",
    "        search_params = {\n",
    "            \"k\": search_term,\n",
    "            \"page\": page,\n",
    "        }\n",
    "        amazon_url = \"https://www.amazon.com/s?\" + urlencode(search_params)\n",
    "        return amazon_url\n",
    "\n",
    "    return [create_page_url(search, i) for i in range(1, 21)]\n",
    "\n",
    "\n",
    "async def get_page(session, url):\n",
    "    async with session.get(url, ssl=False) as response:\n",
    "        page = await response.text()\n",
    "        return get_discounts(BeautifulSoup(page, \"lxml\", parse_only=product_divs))\n",
    "\n",
    "\n",
    "async def gather_pages(urls):\n",
    "    headers = {\n",
    "        \"Accept\": \"text/html,application/xhtml+xml,application/xml;q=0.9,image/avif,image/webp,image/png,image/svg+xml,*/*;q=0.8\",\n",
    "        \"Accept-Language\": \"en-US,en;q=0.5\",\n",
    "        \"User-Agent\": \"Mozilla/5.0 (X11; Ubuntu; Linux x86_64; rv:131.0) Gecko/20100101 Firefox/131.0\",\n",
    "    }\n",
    "    async with aiohttp.ClientSession(headers=headers) as session:\n",
    "        tasks = [asyncio.ensure_future(get_page(session, url)) for url in urls]\n",
    "        return await asyncio.gather(*tasks)\n"
   ]
  },
  {
   "cell_type": "code",
   "execution_count": 3,
   "metadata": {},
   "outputs": [],
   "source": [
    "def valid_product(tag):\n",
    "    return (\n",
    "        tag.has_attr(\"data-asin\")\n",
    "        and tag[\"data-asin\"] != \"\"\n",
    "        and not tag.find(\"div\", class_=\"rush-component\")\n",
    "    )\n",
    "\n",
    "\n",
    "def get_price(tag):\n",
    "    return tag.find(\"span\", class_=\"a-offscreen\").get_text(strip=True)\n",
    "\n",
    "\n",
    "def get_original_price(tag):\n",
    "    span = tag.find(\"span\", class_=\"a-price a-text-price\")\n",
    "    if span:\n",
    "        return get_price(span)\n",
    "\n",
    "\n",
    "def get_discounted_price(tag):\n",
    "    span = tag.find(\"span\", class_=\"a-price\")\n",
    "    if span:\n",
    "        return get_price(span)\n",
    "\n",
    "\n",
    "def get_description(tag):\n",
    "    span = tag.find(\"span\", class_=\"a-text-normal\")\n",
    "\n",
    "    if span:\n",
    "        return span.get_text(strip=True)\n",
    "\n",
    "\n",
    "def get_product_link(tag):\n",
    "    span = tag.find(\"span\", class_=\"a-text-normal\")\n",
    "    if span:\n",
    "        link = span.parent.get(\"href\")\n",
    "        if link[:5] == \"/sspa\":\n",
    "            return\n",
    "        return link.rsplit(\"/\", 1)[0]\n",
    "\n",
    "\n",
    "def get_discounts(soup):\n",
    "    results = soup.find_all(valid_product)\n",
    "\n",
    "    discounts = []\n",
    "\n",
    "    for div in results:\n",
    "        desc = get_description(div)\n",
    "        if not desc:\n",
    "            continue\n",
    "        product = {\n",
    "            \"ASIN\": div[\"data-asin\"],\n",
    "            \"Description\": desc,\n",
    "            \"link\": get_product_link(div),\n",
    "            \"old_price\": get_original_price(div),\n",
    "            \"current_price\": get_discounted_price(div),\n",
    "        }\n",
    "        discounts.append(product)\n",
    "\n",
    "    return discounts\n"
   ]
  },
  {
   "cell_type": "code",
   "execution_count": 4,
   "metadata": {},
   "outputs": [],
   "source": [
    "search = \"atx motherboard\""
   ]
  },
  {
   "cell_type": "code",
   "execution_count": 5,
   "metadata": {},
   "outputs": [
    {
     "name": "stdout",
     "output_type": "stream",
     "text": [
      "Took: 6.2470sec\n"
     ]
    }
   ],
   "source": [
    "start = time.perf_counter()\n",
    "res = await gather_pages(create_urls(search))\n",
    "end = time.perf_counter()\n",
    "print(f\"Took: {end - start :.4f}sec\")\n"
   ]
  },
  {
   "cell_type": "code",
   "execution_count": 6,
   "metadata": {},
   "outputs": [
    {
     "name": "stdout",
     "output_type": "stream",
     "text": [
      "306 Products Discovered for atx motherboard\n"
     ]
    }
   ],
   "source": [
    "\n",
    "products = [item for page in res for item in page]\n",
    "\n",
    "print(f\"{len(products)} Products Discovered for {search}\")"
   ]
  },
  {
   "cell_type": "code",
   "execution_count": 7,
   "metadata": {},
   "outputs": [
    {
     "data": {
      "text/plain": [
       "[{'ASIN': 'B09GP7P1XS',\n",
       "  'Description': 'Asus ROG Strix B550-F Gaming WiFi II AMD AM4 (3rd Gen Ryzen) ATX Motherboard (PCIe 4.0,WiFi 6E, 2.5Gb LAN, BIOS Flashback, HDMI 2.1, Addressable Gen 2 RGB Header and Aura Sync)',\n",
       "  'link': '/ROG-B550-F-II-Motherboard-Addressable/dp/B09GP7P1XS',\n",
       "  'old_price': '$189.99',\n",
       "  'current_price': '$177.99'},\n",
       " {'ASIN': 'B089CT5GDM',\n",
       "  'Description': 'ASUS Prime B550-PLUS AMD AM4 Zen 3 Ryzen 5000 & 3rd Gen Ryzen ATX Motherboard (PCIe 4.0, ECC Memory, 1Gb LAN, HDMI 2.1, DisPlayPort 1.2 (4K@60HZ), Addressable Gen 2 RGB Header and Aura Sync).',\n",
       "  'link': '/ASUS-B550-PLUS-Motherboard-DisPlayPort-Addressable/dp/B089CT5GDM',\n",
       "  'old_price': '$119.99',\n",
       "  'current_price': '$99.99'},\n",
       " {'ASIN': 'B089CWDHFZ',\n",
       "  'Description': 'MSI MAG B550 TOMAHAWK Gaming Motherboard (AMD AM4, DDR4, PCIe 4.0, SATA 6Gb/s, M.2, USB 3.2 Gen 2, HDMI/DP, ATX, AMD Ryzen 5000 Series processors)',\n",
       "  'link': '/MSI-MAG-B550-TOMAHAWK-Motherboard/dp/B089CWDHFZ',\n",
       "  'old_price': '$159.99',\n",
       "  'current_price': '$119.99'},\n",
       " {'ASIN': 'B0BH7GTY9C',\n",
       "  'Description': 'GIGABYTE B650 AORUS Elite AX AMD B650 ATX Motherboard with DDR5, PCIe 5.0, WiFi 6E, 5-Year Warranty',\n",
       "  'link': '/GIGABYTE-B650-Warranty-EZ-Latch-Motherboard/dp/B0BH7GTY9C',\n",
       "  'old_price': '$219.99',\n",
       "  'current_price': '$184.99'},\n",
       " {'ASIN': 'B0BRQSWSFQ',\n",
       "  'Description': 'MSI PRO B760-P WiFi DDR4 ProSeries Motherboard (Supports 12th/13th/14th Gen Intel Processors, LGA 1700, DDR4, PCIe 4.0, M.2, 2.5Gbps LAN, USB 3.2 Gen2, HDMI/DP, Wi-Fi 6E, Bluetooth 5.3, ATX)',\n",
       "  'link': '/MSI-ProSeries-Motherboard-Supports-Processors/dp/B0BRQSWSFQ',\n",
       "  'old_price': '$159.99',\n",
       "  'current_price': '$149.99'}]"
      ]
     },
     "execution_count": 7,
     "metadata": {},
     "output_type": "execute_result"
    }
   ],
   "source": [
    "products[:5]"
   ]
  },
  {
   "cell_type": "code",
   "execution_count": 8,
   "metadata": {},
   "outputs": [
    {
     "name": "stdout",
     "output_type": "stream",
     "text": [
      "<class 'pandas.core.frame.DataFrame'>\n",
      "RangeIndex: 306 entries, 0 to 305\n",
      "Data columns (total 5 columns):\n",
      " #   Column         Non-Null Count  Dtype \n",
      "---  ------         --------------  ----- \n",
      " 0   ASIN           306 non-null    object\n",
      " 1   Description    306 non-null    object\n",
      " 2   link           306 non-null    object\n",
      " 3   old_price      113 non-null    object\n",
      " 4   current_price  254 non-null    object\n",
      "dtypes: object(5)\n",
      "memory usage: 12.1+ KB\n"
     ]
    }
   ],
   "source": [
    "df_products = pd.DataFrame(products) \n",
    "df_products.info()\n"
   ]
  },
  {
   "cell_type": "code",
   "execution_count": 9,
   "metadata": {},
   "outputs": [
    {
     "data": {
      "text/html": [
       "<div>\n",
       "<style scoped>\n",
       "    .dataframe tbody tr th:only-of-type {\n",
       "        vertical-align: middle;\n",
       "    }\n",
       "\n",
       "    .dataframe tbody tr th {\n",
       "        vertical-align: top;\n",
       "    }\n",
       "\n",
       "    .dataframe thead th {\n",
       "        text-align: right;\n",
       "    }\n",
       "</style>\n",
       "<table border=\"1\" class=\"dataframe\">\n",
       "  <thead>\n",
       "    <tr style=\"text-align: right;\">\n",
       "      <th></th>\n",
       "      <th>ASIN</th>\n",
       "      <th>Description</th>\n",
       "      <th>link</th>\n",
       "      <th>old_price</th>\n",
       "      <th>current_price</th>\n",
       "    </tr>\n",
       "  </thead>\n",
       "  <tbody>\n",
       "    <tr>\n",
       "      <th>0</th>\n",
       "      <td>B09GP7P1XS</td>\n",
       "      <td>Asus ROG Strix B550-F Gaming WiFi II AMD AM4 (...</td>\n",
       "      <td>/ROG-B550-F-II-Motherboard-Addressable/dp/B09G...</td>\n",
       "      <td>$189.99</td>\n",
       "      <td>$177.99</td>\n",
       "    </tr>\n",
       "    <tr>\n",
       "      <th>1</th>\n",
       "      <td>B089CT5GDM</td>\n",
       "      <td>ASUS Prime B550-PLUS AMD AM4 Zen 3 Ryzen 5000 ...</td>\n",
       "      <td>/ASUS-B550-PLUS-Motherboard-DisPlayPort-Addres...</td>\n",
       "      <td>$119.99</td>\n",
       "      <td>$99.99</td>\n",
       "    </tr>\n",
       "    <tr>\n",
       "      <th>2</th>\n",
       "      <td>B089CWDHFZ</td>\n",
       "      <td>MSI MAG B550 TOMAHAWK Gaming Motherboard (AMD ...</td>\n",
       "      <td>/MSI-MAG-B550-TOMAHAWK-Motherboard/dp/B089CWDHFZ</td>\n",
       "      <td>$159.99</td>\n",
       "      <td>$119.99</td>\n",
       "    </tr>\n",
       "    <tr>\n",
       "      <th>3</th>\n",
       "      <td>B0BH7GTY9C</td>\n",
       "      <td>GIGABYTE B650 AORUS Elite AX AMD B650 ATX Moth...</td>\n",
       "      <td>/GIGABYTE-B650-Warranty-EZ-Latch-Motherboard/d...</td>\n",
       "      <td>$219.99</td>\n",
       "      <td>$184.99</td>\n",
       "    </tr>\n",
       "    <tr>\n",
       "      <th>4</th>\n",
       "      <td>B0BRQSWSFQ</td>\n",
       "      <td>MSI PRO B760-P WiFi DDR4 ProSeries Motherboard...</td>\n",
       "      <td>/MSI-ProSeries-Motherboard-Supports-Processors...</td>\n",
       "      <td>$159.99</td>\n",
       "      <td>$149.99</td>\n",
       "    </tr>\n",
       "  </tbody>\n",
       "</table>\n",
       "</div>"
      ],
      "text/plain": [
       "         ASIN                                        Description  \\\n",
       "0  B09GP7P1XS  Asus ROG Strix B550-F Gaming WiFi II AMD AM4 (...   \n",
       "1  B089CT5GDM  ASUS Prime B550-PLUS AMD AM4 Zen 3 Ryzen 5000 ...   \n",
       "2  B089CWDHFZ  MSI MAG B550 TOMAHAWK Gaming Motherboard (AMD ...   \n",
       "3  B0BH7GTY9C  GIGABYTE B650 AORUS Elite AX AMD B650 ATX Moth...   \n",
       "4  B0BRQSWSFQ  MSI PRO B760-P WiFi DDR4 ProSeries Motherboard...   \n",
       "\n",
       "                                                link old_price current_price  \n",
       "0  /ROG-B550-F-II-Motherboard-Addressable/dp/B09G...   $189.99       $177.99  \n",
       "1  /ASUS-B550-PLUS-Motherboard-DisPlayPort-Addres...   $119.99        $99.99  \n",
       "2   /MSI-MAG-B550-TOMAHAWK-Motherboard/dp/B089CWDHFZ   $159.99       $119.99  \n",
       "3  /GIGABYTE-B650-Warranty-EZ-Latch-Motherboard/d...   $219.99       $184.99  \n",
       "4  /MSI-ProSeries-Motherboard-Supports-Processors...   $159.99       $149.99  "
      ]
     },
     "execution_count": 9,
     "metadata": {},
     "output_type": "execute_result"
    }
   ],
   "source": [
    "df_products.head()"
   ]
  }
 ],
 "metadata": {
  "kernelspec": {
   "display_name": ".venv",
   "language": "python",
   "name": "python3"
  },
  "language_info": {
   "codemirror_mode": {
    "name": "ipython",
    "version": 3
   },
   "file_extension": ".py",
   "mimetype": "text/x-python",
   "name": "python",
   "nbconvert_exporter": "python",
   "pygments_lexer": "ipython3",
   "version": "3.10.12"
  }
 },
 "nbformat": 4,
 "nbformat_minor": 2
}
