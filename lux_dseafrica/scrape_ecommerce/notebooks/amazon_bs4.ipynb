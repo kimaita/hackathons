{
 "cells": [
  {
   "cell_type": "code",
   "execution_count": 1,
   "metadata": {},
   "outputs": [],
   "source": [
    "from bs4 import BeautifulSoup\n",
    "import os\n",
    "from dotenv import load_dotenv\n",
    "from urllib.parse import urlencode\n",
    "import requests"
   ]
  },
  {
   "cell_type": "code",
   "execution_count": 2,
   "metadata": {},
   "outputs": [],
   "source": [
    "load_dotenv()\n",
    "API_KEY = os.environ['SCRAPER_APIKEY']"
   ]
  },
  {
   "cell_type": "code",
   "execution_count": 3,
   "metadata": {},
   "outputs": [],
   "source": [
    "session = requests.Session()"
   ]
  },
  {
   "cell_type": "code",
   "execution_count": 4,
   "metadata": {},
   "outputs": [],
   "source": [
    "def get_scraperapi_url(search_term):\n",
    "\n",
    "    def create_search_url(search_term):\n",
    "        return 'https://www.amazon.com/s?' + urlencode({'k': search_term})\n",
    "  \n",
    "    payload = {'api_key': API_KEY, 'url': create_search_url(search_term)}\n",
    "    proxy_url = 'http://api.scraperapi.com/?' + urlencode(payload)\n",
    "    return proxy_url"
   ]
  },
  {
   "cell_type": "code",
   "execution_count": 5,
   "metadata": {},
   "outputs": [],
   "source": [
    "def load_page(url):\n",
    "    response = session.get(url)\n",
    "    if response.status_code == 200:\n",
    "        print(f'[{response.status_code}] OK')\n",
    "        return response.content\n",
    "    else:\n",
    "        print(f'Failed to fetch the page. Status code: {response.status_code}')"
   ]
  },
  {
   "cell_type": "code",
   "execution_count": 6,
   "metadata": {},
   "outputs": [],
   "source": [
    "get_price = lambda tag: tag.find('span', class_='a-offscreen').get_text(strip=True)"
   ]
  },
  {
   "cell_type": "code",
   "execution_count": 7,
   "metadata": {},
   "outputs": [],
   "source": [
    "def get_discounts(soup):\n",
    "    results = soup.find_all('div', attrs={'data-asin': True})\n",
    "\n",
    "    discounts = []\n",
    "\n",
    "    for div in results:\n",
    "        if div['data-asin'] =='':\n",
    "            continue\n",
    "        prices = {}\n",
    "            \n",
    "        description_span = div.find('span', class_='a-size-medium a-color-base a-text-normal')\n",
    "\n",
    "        deal_price_span = div.find('span', class_='a-price')\n",
    "        if deal_price_span:\n",
    "            prices['new_price'] = get_price(deal_price_span)\n",
    "        \n",
    "        old_price_span = div.find('span', class_='a-price a-text-price')\n",
    "        if old_price_span:\n",
    "            prices['old_price'] = get_price(old_price_span)\n",
    "            discounts.append(prices)\n",
    "            prices['ASIN'] = div['data-asin']\n",
    "            prices['description'] = description_span.get_text(strip=True) if description_span else 'Not Found'\n",
    "        else:\n",
    "            continue\n",
    "\n",
    "    return discounts"
   ]
  },
  {
   "cell_type": "code",
   "execution_count": 8,
   "metadata": {},
   "outputs": [],
   "source": [
    "def next_page(link):\n",
    "    page = 'https://www.amazon.com' + link  \n",
    "    payload = {'api_key': API_KEY, 'url': page}\n",
    "    proxy_url = 'http://api.scraperapi.com/?' + urlencode(payload)\n",
    "    return proxy_url"
   ]
  },
  {
   "cell_type": "code",
   "execution_count": 9,
   "metadata": {},
   "outputs": [],
   "source": [
    "def get_next_page_link(soup):\n",
    "    for child in soup.find('span', class_='s-pagination-strip'):\n",
    "        link = child.get('href')\n",
    "        if link and child.text == \"Next\":\n",
    "            return link"
   ]
  },
  {
   "cell_type": "code",
   "execution_count": 10,
   "metadata": {},
   "outputs": [],
   "source": [
    "search = \"Laptop\""
   ]
  },
  {
   "cell_type": "code",
   "execution_count": 11,
   "metadata": {},
   "outputs": [
    {
     "name": "stdout",
     "output_type": "stream",
     "text": [
      "[200] OK\n"
     ]
    }
   ],
   "source": [
    "url = get_scraperapi_url(search)\n",
    "webpage = load_page(url)"
   ]
  },
  {
   "cell_type": "code",
   "execution_count": 12,
   "metadata": {},
   "outputs": [
    {
     "name": "stdout",
     "output_type": "stream",
     "text": [
      "Amazon.com : Laptop\n"
     ]
    }
   ],
   "source": [
    "if webpage:\n",
    "    soup = BeautifulSoup(webpage, 'lxml')\n",
    "    print(soup.title.text)    "
   ]
  },
  {
   "cell_type": "code",
   "execution_count": 13,
   "metadata": {},
   "outputs": [
    {
     "name": "stdout",
     "output_type": "stream",
     "text": [
      "8\n"
     ]
    }
   ],
   "source": [
    "discounts = get_discounts(soup)\n",
    "\n",
    "print(len(discounts))"
   ]
  },
  {
   "cell_type": "code",
   "execution_count": 14,
   "metadata": {},
   "outputs": [
    {
     "name": "stdout",
     "output_type": "stream",
     "text": [
      "[200] OK\n",
      "[200] OK\n",
      "[200] OK\n",
      "[200] OK\n",
      "[200] OK\n",
      "[200] OK\n",
      "[200] OK\n",
      "[200] OK\n",
      "[200] OK\n",
      "[200] OK\n",
      "[200] OK\n",
      "[200] OK\n",
      "[200] OK\n",
      "[200] OK\n",
      "[200] OK\n",
      "[200] OK\n",
      "[200] OK\n",
      "[200] OK\n",
      "[200] OK\n",
      "20 pages 134 Products Discovered for Laptop\n"
     ]
    }
   ],
   "source": [
    "next = get_next_page_link(soup)\n",
    "page_count = 1\n",
    "while next:\n",
    "    webpage = load_page(next_page(next))\n",
    "    if webpage:\n",
    "        page_count+=1\n",
    "        _soup = BeautifulSoup(webpage, 'lxml')\n",
    "        discounts.extend(get_discounts(_soup))\n",
    "        next = get_next_page_link(_soup)\n",
    "\n",
    "print(f\"{page_count} pages {len(discounts)} Products Discovered for {search}\")"
   ]
  },
  {
   "cell_type": "code",
   "execution_count": 16,
   "metadata": {},
   "outputs": [],
   "source": [
    "import pandas as pd"
   ]
  },
  {
   "cell_type": "code",
   "execution_count": 17,
   "metadata": {},
   "outputs": [
    {
     "data": {
      "text/html": [
       "<div>\n",
       "<style scoped>\n",
       "    .dataframe tbody tr th:only-of-type {\n",
       "        vertical-align: middle;\n",
       "    }\n",
       "\n",
       "    .dataframe tbody tr th {\n",
       "        vertical-align: top;\n",
       "    }\n",
       "\n",
       "    .dataframe thead th {\n",
       "        text-align: right;\n",
       "    }\n",
       "</style>\n",
       "<table border=\"1\" class=\"dataframe\">\n",
       "  <thead>\n",
       "    <tr style=\"text-align: right;\">\n",
       "      <th></th>\n",
       "      <th>new_price</th>\n",
       "      <th>old_price</th>\n",
       "      <th>ASIN</th>\n",
       "      <th>description</th>\n",
       "    </tr>\n",
       "  </thead>\n",
       "  <tbody>\n",
       "    <tr>\n",
       "      <th>0</th>\n",
       "      <td>$648.99</td>\n",
       "      <td>$799.97</td>\n",
       "      <td>B09BW611ZP</td>\n",
       "      <td>Not Found</td>\n",
       "    </tr>\n",
       "    <tr>\n",
       "      <th>1</th>\n",
       "      <td>$490.05</td>\n",
       "      <td>$524.99</td>\n",
       "      <td>B0C3RNRB8W</td>\n",
       "      <td>HP 17 Laptop, 17.3” HD+ Display, 11th Gen Inte...</td>\n",
       "    </tr>\n",
       "    <tr>\n",
       "      <th>2</th>\n",
       "      <td>$309.99</td>\n",
       "      <td>$329.99</td>\n",
       "      <td>B0BS4BP8FB</td>\n",
       "      <td>Acer Aspire 3 A315-24P-R7VH Slim Laptop | 15.6...</td>\n",
       "    </tr>\n",
       "    <tr>\n",
       "      <th>3</th>\n",
       "      <td>$199.00</td>\n",
       "      <td>$249.99</td>\n",
       "      <td>B09SVR5VD4</td>\n",
       "      <td>ASUS Vivobook Go 15 L510 Thin &amp; Light Laptop C...</td>\n",
       "    </tr>\n",
       "    <tr>\n",
       "      <th>4</th>\n",
       "      <td>$176.99</td>\n",
       "      <td>$299.99</td>\n",
       "      <td>B08YKHYCPW</td>\n",
       "      <td>Lenovo IdeaPad 1 14 Laptop, 14.0\" HD Display, ...</td>\n",
       "    </tr>\n",
       "    <tr>\n",
       "      <th>...</th>\n",
       "      <td>...</td>\n",
       "      <td>...</td>\n",
       "      <td>...</td>\n",
       "      <td>...</td>\n",
       "    </tr>\n",
       "    <tr>\n",
       "      <th>129</th>\n",
       "      <td>$2,096.76</td>\n",
       "      <td>$2,199.99</td>\n",
       "      <td>B0BZQP8591</td>\n",
       "      <td>ASUS Vivobook Pro 16X Laptop, 16” 16:10 Displa...</td>\n",
       "    </tr>\n",
       "    <tr>\n",
       "      <th>130</th>\n",
       "      <td>$272.99</td>\n",
       "      <td>$299.99</td>\n",
       "      <td>B0C49H9WSD</td>\n",
       "      <td>HP est 14'' Ultral Light Laptop for Students a...</td>\n",
       "    </tr>\n",
       "    <tr>\n",
       "      <th>131</th>\n",
       "      <td>$175.00</td>\n",
       "      <td>$213.59</td>\n",
       "      <td>B01AA1ERYI</td>\n",
       "      <td>Dell Latitude E6520 15.6 Inch Business Laptop,...</td>\n",
       "    </tr>\n",
       "    <tr>\n",
       "      <th>132</th>\n",
       "      <td>$269.99</td>\n",
       "      <td>$289.99</td>\n",
       "      <td>B0CJFMV266</td>\n",
       "      <td>Laptop Computer, 15.6\" Laptop, 16GB RAM 512GB ...</td>\n",
       "    </tr>\n",
       "    <tr>\n",
       "      <th>133</th>\n",
       "      <td>$2,096.76</td>\n",
       "      <td>$2,199.99</td>\n",
       "      <td>B0BZQP8591</td>\n",
       "      <td>ASUS Vivobook Pro 16X Laptop, 16” 16:10 Displa...</td>\n",
       "    </tr>\n",
       "  </tbody>\n",
       "</table>\n",
       "<p>134 rows × 4 columns</p>\n",
       "</div>"
      ],
      "text/plain": [
       "     new_price  old_price        ASIN  \\\n",
       "0      $648.99    $799.97  B09BW611ZP   \n",
       "1      $490.05    $524.99  B0C3RNRB8W   \n",
       "2      $309.99    $329.99  B0BS4BP8FB   \n",
       "3      $199.00    $249.99  B09SVR5VD4   \n",
       "4      $176.99    $299.99  B08YKHYCPW   \n",
       "..         ...        ...         ...   \n",
       "129  $2,096.76  $2,199.99  B0BZQP8591   \n",
       "130    $272.99    $299.99  B0C49H9WSD   \n",
       "131    $175.00    $213.59  B01AA1ERYI   \n",
       "132    $269.99    $289.99  B0CJFMV266   \n",
       "133  $2,096.76  $2,199.99  B0BZQP8591   \n",
       "\n",
       "                                           description  \n",
       "0                                            Not Found  \n",
       "1    HP 17 Laptop, 17.3” HD+ Display, 11th Gen Inte...  \n",
       "2    Acer Aspire 3 A315-24P-R7VH Slim Laptop | 15.6...  \n",
       "3    ASUS Vivobook Go 15 L510 Thin & Light Laptop C...  \n",
       "4    Lenovo IdeaPad 1 14 Laptop, 14.0\" HD Display, ...  \n",
       "..                                                 ...  \n",
       "129  ASUS Vivobook Pro 16X Laptop, 16” 16:10 Displa...  \n",
       "130  HP est 14'' Ultral Light Laptop for Students a...  \n",
       "131  Dell Latitude E6520 15.6 Inch Business Laptop,...  \n",
       "132  Laptop Computer, 15.6\" Laptop, 16GB RAM 512GB ...  \n",
       "133  ASUS Vivobook Pro 16X Laptop, 16” 16:10 Displa...  \n",
       "\n",
       "[134 rows x 4 columns]"
      ]
     },
     "execution_count": 17,
     "metadata": {},
     "output_type": "execute_result"
    }
   ],
   "source": [
    "pd.DataFrame(discounts) "
   ]
  }
 ],
 "metadata": {
  "kernelspec": {
   "display_name": ".venv",
   "language": "python",
   "name": "python3"
  },
  "language_info": {
   "codemirror_mode": {
    "name": "ipython",
    "version": 3
   },
   "file_extension": ".py",
   "mimetype": "text/x-python",
   "name": "python",
   "nbconvert_exporter": "python",
   "pygments_lexer": "ipython3",
   "version": "3.8.10"
  }
 },
 "nbformat": 4,
 "nbformat_minor": 2
}
